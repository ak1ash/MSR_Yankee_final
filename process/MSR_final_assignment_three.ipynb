{
  "nbformat": 4,
  "nbformat_minor": 0,
  "metadata": {
    "colab": {
      "provenance": [],
      "collapsed_sections": []
    },
    "kernelspec": {
      "name": "python3",
      "display_name": "Python 3"
    },
    "language_info": {
      "name": "python"
    }
  },
  "cells": [
    {
      "cell_type": "markdown",
      "source": [
        "# **Installation steps** "
      ],
      "metadata": {
        "id": "o7smrSqcYJTc"
      }
    },
    {
      "cell_type": "code",
      "execution_count": null,
      "metadata": {
        "colab": {
          "base_uri": "https://localhost:8080/"
        },
        "id": "CV41Qs2o3mqx",
        "outputId": "c76ba875-80ca-429e-8df2-0c8317e3bc02"
      },
      "outputs": [
        {
          "output_type": "stream",
          "name": "stdout",
          "text": [
            "Looking in indexes: https://pypi.org/simple, https://us-python.pkg.dev/colab-wheels/public/simple/\n",
            "Requirement already satisfied: pandas in /usr/local/lib/python3.7/dist-packages (1.3.5)\n",
            "Requirement already satisfied: python-dateutil>=2.7.3 in /usr/local/lib/python3.7/dist-packages (from pandas) (2.8.2)\n",
            "Requirement already satisfied: numpy>=1.17.3 in /usr/local/lib/python3.7/dist-packages (from pandas) (1.21.6)\n",
            "Requirement already satisfied: pytz>=2017.3 in /usr/local/lib/python3.7/dist-packages (from pandas) (2022.2.1)\n",
            "Requirement already satisfied: six>=1.5 in /usr/local/lib/python3.7/dist-packages (from python-dateutil>=2.7.3->pandas) (1.15.0)\n",
            "Looking in indexes: https://pypi.org/simple, https://us-python.pkg.dev/colab-wheels/public/simple/\n",
            "Requirement already satisfied: seaborn in /usr/local/lib/python3.7/dist-packages (0.11.2)\n",
            "Requirement already satisfied: pandas>=0.23 in /usr/local/lib/python3.7/dist-packages (from seaborn) (1.3.5)\n",
            "Requirement already satisfied: numpy>=1.15 in /usr/local/lib/python3.7/dist-packages (from seaborn) (1.21.6)\n",
            "Requirement already satisfied: scipy>=1.0 in /usr/local/lib/python3.7/dist-packages (from seaborn) (1.7.3)\n",
            "Requirement already satisfied: matplotlib>=2.2 in /usr/local/lib/python3.7/dist-packages (from seaborn) (3.2.2)\n",
            "Requirement already satisfied: kiwisolver>=1.0.1 in /usr/local/lib/python3.7/dist-packages (from matplotlib>=2.2->seaborn) (1.4.4)\n",
            "Requirement already satisfied: pyparsing!=2.0.4,!=2.1.2,!=2.1.6,>=2.0.1 in /usr/local/lib/python3.7/dist-packages (from matplotlib>=2.2->seaborn) (3.0.9)\n",
            "Requirement already satisfied: cycler>=0.10 in /usr/local/lib/python3.7/dist-packages (from matplotlib>=2.2->seaborn) (0.11.0)\n",
            "Requirement already satisfied: python-dateutil>=2.1 in /usr/local/lib/python3.7/dist-packages (from matplotlib>=2.2->seaborn) (2.8.2)\n",
            "Requirement already satisfied: typing-extensions in /usr/local/lib/python3.7/dist-packages (from kiwisolver>=1.0.1->matplotlib>=2.2->seaborn) (4.1.1)\n",
            "Requirement already satisfied: pytz>=2017.3 in /usr/local/lib/python3.7/dist-packages (from pandas>=0.23->seaborn) (2022.2.1)\n",
            "Requirement already satisfied: six>=1.5 in /usr/local/lib/python3.7/dist-packages (from python-dateutil>=2.1->matplotlib>=2.2->seaborn) (1.15.0)\n",
            "Looking in indexes: https://pypi.org/simple, https://us-python.pkg.dev/colab-wheels/public/simple/\n",
            "Requirement already satisfied: matplotlib in /usr/local/lib/python3.7/dist-packages (3.2.2)\n",
            "Requirement already satisfied: pyparsing!=2.0.4,!=2.1.2,!=2.1.6,>=2.0.1 in /usr/local/lib/python3.7/dist-packages (from matplotlib) (3.0.9)\n",
            "Requirement already satisfied: kiwisolver>=1.0.1 in /usr/local/lib/python3.7/dist-packages (from matplotlib) (1.4.4)\n",
            "Requirement already satisfied: python-dateutil>=2.1 in /usr/local/lib/python3.7/dist-packages (from matplotlib) (2.8.2)\n",
            "Requirement already satisfied: numpy>=1.11 in /usr/local/lib/python3.7/dist-packages (from matplotlib) (1.21.6)\n",
            "Requirement already satisfied: cycler>=0.10 in /usr/local/lib/python3.7/dist-packages (from matplotlib) (0.11.0)\n",
            "Requirement already satisfied: typing-extensions in /usr/local/lib/python3.7/dist-packages (from kiwisolver>=1.0.1->matplotlib) (4.1.1)\n",
            "Requirement already satisfied: six>=1.5 in /usr/local/lib/python3.7/dist-packages (from python-dateutil>=2.1->matplotlib) (1.15.0)\n"
          ]
        }
      ],
      "source": [
        "!pip install pandas\n",
        "!pip install seaborn\n",
        "!pip install matplotlib"
      ]
    },
    {
      "cell_type": "markdown",
      "source": [
        "# **Importing required libraries and setting column and rows**"
      ],
      "metadata": {
        "id": "FLXo9FfRiLa0"
      }
    },
    {
      "cell_type": "code",
      "source": [
        "import pandas as pd\n",
        "import seaborn as sns\n",
        "\n",
        "import matplotlib.pyplot as plt\n",
        "\n",
        "plt.figure(figsize=(10,8))\n",
        "\n",
        "pd.set_option('display.max_rows', None)\n",
        "pd.set_option('display.max_columns', None)\n",
        "pd.set_option('display.width', None)\n",
        "pd.set_option('display.max_colwidth', None)"
      ],
      "metadata": {
        "colab": {
          "base_uri": "https://localhost:8080/",
          "height": 34
        },
        "id": "QV7LU-VF4s14",
        "outputId": "4606bf59-8b90-4dda-8033-09b89b11aa84"
      },
      "execution_count": null,
      "outputs": [
        {
          "output_type": "display_data",
          "data": {
            "text/plain": [
              "<Figure size 720x576 with 0 Axes>"
            ]
          },
          "metadata": {}
        }
      ]
    },
    {
      "cell_type": "markdown",
      "source": [
        "# **Classification of reproducibility based on score value.**"
      ],
      "metadata": {
        "id": "UB6wPqSNh-mk"
      }
    },
    {
      "cell_type": "code",
      "source": [
        "# Idea: Take the score and compute the final value.\n",
        "probably_reproducible=0\n",
        "irreproducible=0\n",
        "mostly_reproducible=0\n",
        "\n",
        "df=pd.read_csv('../Data/final_out.csv')  \n",
        "df_one = df[['Id','CreationDate','AcceptedAnswerId','Score','Body','AnswerCount','Status']]\n",
        "\n",
        "total_count = len(df_one)\n",
        "score_val = df_one['Score']\n",
        "answer_count = df_one['AnswerCount']\n",
        "# Filter the data with probably_reproducible and irreproducible into a dataframe\n",
        "\n",
        "for score in score_val:\n",
        "  if(score > 0 and score <=1):\n",
        "    probably_reproducible += 1\n",
        "    \n",
        "  if(score > 2):\n",
        "    mostly_reproducible += 1\n",
        "\n",
        "  if(score<=0):\n",
        "    irreproducible += 1\n",
        "\n",
        "\n",
        "probably_rep_percentage = (probably_reproducible/total_count)*100\n",
        "\n",
        "mostly_rep_percentage = (mostly_reproducible/total_count)*100\n",
        "\n",
        "irrep_percentage = (irreproducible/total_count)*100\n",
        "\n",
        "rep_irep_dict = {'Probably Reproducible':[probably_rep_percentage] , 'Mostly reproducible': [mostly_rep_percentage], 'irreproducible': [irrep_percentage]}\n",
        "\n",
        "keys = list(rep_irep_dict.keys())\n",
        "\n",
        "vals = [probably_rep_percentage, mostly_rep_percentage, irrep_percentage]\n",
        "\n",
        "#sns.barplot(x=keys, y=vals, hue=keys, dodge = False)\n",
        "\n",
        "\n",
        "colors = sns.color_palette('bright')[0:5]\n",
        "#plt.pie(vals, keys)\n",
        "plt.pie(vals, labels = keys, colors = colors, autopct='%.0f%%')\n",
        "\n",
        "\n"
      ],
      "metadata": {
        "colab": {
          "base_uri": "https://localhost:8080/",
          "height": 404
        },
        "id": "k-7zw1tfDEUK",
        "outputId": "68558a2a-446e-4363-f23f-cb22b455c905"
      },
      "execution_count": null,
      "outputs": [
        {
          "output_type": "execute_result",
          "data": {
            "text/plain": [
              "([<matplotlib.patches.Wedge at 0x7f262858c850>,\n",
              "  <matplotlib.patches.Wedge at 0x7f262859e090>,\n",
              "  <matplotlib.patches.Wedge at 0x7f262859e850>],\n",
              " [Text(0.9315689244597208, 0.5849609721861443, 'Probably Reproducible'),\n",
              "  Text(0.3691106580863123, 1.0362226218757673, 'Mostly reproducible'),\n",
              "  Text(-0.8636380499146294, -0.6812703712474631, 'irreproducible')],\n",
              " [Text(0.5081285042507567, 0.3190696211924423, '18%'),\n",
              "  Text(0.20133308622889762, 0.5652123392049639, '3%'),\n",
              "  Text(-0.47107529995343417, -0.3716020206804344, '79%')])"
            ]
          },
          "metadata": {},
          "execution_count": 3
        },
        {
          "output_type": "display_data",
          "data": {
            "text/plain": [
              "<Figure size 432x288 with 1 Axes>"
            ],
            "image/png": "[encoded data removed]"
          },
          "metadata": {}
        }
      ]
    },
    {
      "cell_type": "markdown",
      "source": [
        "# **Classification of reproducibility based on answer count**"
      ],
      "metadata": {
        "id": "lemA2zv_ibYl"
      }
    },
    {
      "cell_type": "code",
      "source": [
        "# if answer_count > 1 then probably reproducible and irreproducible are most likely to be reproducible.\n",
        "# if data not available, then tweak the answer_count.\n",
        "# if answer_count < 1 then irreproducible.\n",
        "\n",
        "\n",
        "answer_count_rep = []\n",
        "answer_count_irrep = []\n",
        "total_count_list = []\n",
        "answer_count_probable = []\n",
        "\n",
        "for count in answer_count:\n",
        "  if(count<=1):\n",
        "    answer_count_irrep.append(count)\n",
        "  if(count>1):\n",
        "    answer_count_rep.append(count)\n",
        " \n",
        "\n",
        "\n",
        "irreproducibility_percentage = (len(answer_count_irrep)/len(answer_count))*100\n",
        "reproducibile_percentage = (len(answer_count_rep)/len(answer_count))*100\n",
        "\n",
        "\n",
        "#irreproducibility_percentage\n",
        "\n",
        "rep_irep_dict = {'Reproducible':[reproducibile_percentage] , 'irreproducible': [irreproducibility_percentage]}\n",
        "\n",
        "\n",
        "keys = list(rep_irep_dict.keys())\n",
        "\n",
        "vals = [reproducibile_percentage, irreproducibility_percentage]\n",
        "\n",
        "\n",
        "\n",
        "colors = sns.color_palette('bright')[0:5]\n",
        "#plt.pie(vals, keys)\n",
        "plt.pie(vals, labels = keys, colors = colors, autopct='%.0f%%')\n",
        "\n"
      ],
      "metadata": {
        "id": "QEmU18RyRfsZ",
        "colab": {
          "base_uri": "https://localhost:8080/",
          "height": 352
        },
        "outputId": "1a2580d1-ce08-417f-bead-c6dc79173a21"
      },
      "execution_count": null,
      "outputs": [
        {
          "output_type": "execute_result",
          "data": {
            "text/plain": [
              "([<matplotlib.patches.Wedge at 0x7f2625797450>,\n",
              "  <matplotlib.patches.Wedge at 0x7f2625797110>],\n",
              " [Text(0.21665563822501793, 1.0784527502052699, 'Reproducible'),\n",
              "  Text(-0.21665573919705047, -1.0784527299205005, 'irreproducible')],\n",
              " [Text(0.11817580266819158, 0.5882469546574199, '44%'),\n",
              "  Text(-0.1181758577438457, -0.5882469435930002, '56%')])"
            ]
          },
          "metadata": {},
          "execution_count": 55
        },
        {
          "output_type": "display_data",
          "data": {
            "text/plain": [
              "<Figure size 432x288 with 1 Axes>"
            ],
            "image/png": "[encoded data removed]"
          },
          "metadata": {}
        }
      ]
    },
    {
      "cell_type": "markdown",
      "source": [
        "# **Classification of reproducibility based on Answer count and score taken into consideration.**"
      ],
      "metadata": {
        "id": "TNFc_EljiovU"
      }
    },
    {
      "cell_type": "code",
      "source": [
        "# Generalizability ==> approximately true\n",
        "# score and count > 1 reproducible\n",
        "# score and count == 1 irreproducible\n",
        "# score and count \n",
        "import itertools\n",
        "\n",
        "rep = []\n",
        "irrep = []\n",
        "probably_rep = []\n",
        "\n",
        "for count, score in zip(answer_count,score_val):\n",
        "    if(score>1 and count>1):\n",
        "      rep.append((score,count)) # reproducible\n",
        "    elif(score<=1 and count<=1): \n",
        "      irrep.append((score,count)) # irreproducibility\n",
        "    else:\n",
        "      probably_rep.append((score,count)) # Probably reproducible\n",
        "\n",
        "total_len = len(probably_rep)+len(rep)+len(irrep)\n",
        "\n",
        "rep_percentage = (len(rep)/total_len)*100\n",
        "irrep_percentage = (len(irrep)/total_len)*100\n",
        "probably_rep = (len(probably_rep)/total_len)*100\n",
        "\n",
        "rep_irep_dict = {'Reproducible':[rep_percentage] , 'irreproducible': [irrep_percentage], 'Probably Reproducible': [probably_rep]}\n",
        "\n",
        "keys = list(rep_irep_dict.keys())\n",
        "\n",
        "vals = [rep_percentage, irrep_percentage,probably_rep]\n",
        "\n",
        "\n",
        "colors = sns.color_palette('bright')[0:5]\n",
        "#plt.pie(vals, keys)\n",
        "plt.pie(vals, labels = keys, colors = colors, autopct='%.0f%%')"
      ],
      "metadata": {
        "colab": {
          "base_uri": "https://localhost:8080/",
          "height": 404
        },
        "id": "5s60kooBKL6g",
        "outputId": "0c27a870-87ef-46fe-81a9-87f261498d44"
      },
      "execution_count": null,
      "outputs": [
        {
          "output_type": "execute_result",
          "data": {
            "text/plain": [
              "([<matplotlib.patches.Wedge at 0x7f2625898f90>,\n",
              "  <matplotlib.patches.Wedge at 0x7f2625898b90>,\n",
              "  <matplotlib.patches.Wedge at 0x7f262588e990>],\n",
              " [Text(1.0750233810180685, 0.2330766617756501, 'Reproducible'),\n",
              "  Text(-0.5305169580591491, 0.9636139046379868, 'irreproducible'),\n",
              "  Text(0.3142929535890671, -1.0541441738795791, 'Probably Reproducible')],\n",
              " [Text(0.5863763896462192, 0.12713272460490002, '7%'),\n",
              "  Text(-0.2893728862140813, 0.5256075843479927, '52%'),\n",
              "  Text(0.17143252013949112, -0.5749877312070432, '41%')])"
            ]
          },
          "metadata": {},
          "execution_count": 56
        },
        {
          "output_type": "display_data",
          "data": {
            "text/plain": [
              "<Figure size 432x288 with 1 Axes>"
            ],
            "image/png": "[encoded data removed]"
          },
          "metadata": {}
        }
      ]
    }
  ]
}
